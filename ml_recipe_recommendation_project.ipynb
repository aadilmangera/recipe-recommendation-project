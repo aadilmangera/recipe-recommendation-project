{
  "cells": [
    {
      "cell_type": "markdown",
      "id": "14c27f8a-6379-4488-b37b-bf9fd05a055b",
      "metadata": {
        "id": "14c27f8a-6379-4488-b37b-bf9fd05a055b"
      },
      "source": [
        "LOADING AND CLEANING THE DATA\n",
        "DATASET FROM KAGGLE https://www.kaggle.com/datasets/shuyangli94/food-com-recipes-and-user-interactions/"
      ]
    },
    {
      "cell_type": "code",
      "execution_count": 15,
      "id": "d82ae5bf-0f2b-4060-b353-2fef18e1aec5",
      "metadata": {
        "colab": {
          "base_uri": "https://localhost:8080/"
        },
        "id": "d82ae5bf-0f2b-4060-b353-2fef18e1aec5",
        "outputId": "f70c0605-4f7d-46e6-8c72-3a51a0348ef0"
      },
      "outputs": [
        {
          "output_type": "stream",
          "name": "stdout",
          "text": [
            "                                         name      id  minutes  \\\n",
            "0  arriba   baked winter squash mexican style  137739       55   \n",
            "1            a bit different  breakfast pizza   31490       30   \n",
            "2                   all in the kitchen  chili  112140      130   \n",
            "3                          alouette  potatoes   59389       45   \n",
            "4          amish  tomato ketchup  for canning   44061      190   \n",
            "\n",
            "   contributor_id   submitted  \\\n",
            "0           47892  2005-09-16   \n",
            "1           26278  2002-06-17   \n",
            "2          196586  2005-02-25   \n",
            "3           68585  2003-04-14   \n",
            "4           41706  2002-10-25   \n",
            "\n",
            "                                                tags  \\\n",
            "0  ['60-minutes-or-less', 'time-to-make', 'course...   \n",
            "1  ['30-minutes-or-less', 'time-to-make', 'course...   \n",
            "2  ['time-to-make', 'course', 'preparation', 'mai...   \n",
            "3  ['60-minutes-or-less', 'time-to-make', 'course...   \n",
            "4  ['weeknight', 'time-to-make', 'course', 'main-...   \n",
            "\n",
            "                                    nutrition  n_steps  \\\n",
            "0       [51.5, 0.0, 13.0, 0.0, 2.0, 0.0, 4.0]       11   \n",
            "1   [173.4, 18.0, 0.0, 17.0, 22.0, 35.0, 1.0]        9   \n",
            "2  [269.8, 22.0, 32.0, 48.0, 39.0, 27.0, 5.0]        6   \n",
            "3   [368.1, 17.0, 10.0, 2.0, 14.0, 8.0, 20.0]       11   \n",
            "4   [352.9, 1.0, 337.0, 23.0, 3.0, 0.0, 28.0]        5   \n",
            "\n",
            "                                               steps  \\\n",
            "0  ['make a choice and proceed with recipe', 'dep...   \n",
            "1  ['preheat oven to 425 degrees f', 'press dough...   \n",
            "2  ['brown ground beef in large pot', 'add choppe...   \n",
            "3  ['place potatoes in a large pot of lightly sal...   \n",
            "4  ['mix all ingredients& boil for 2 1 / 2 hours ...   \n",
            "\n",
            "                                         description  \\\n",
            "0  autumn is my favorite time of year to cook! th...   \n",
            "1  this recipe calls for the crust to be prebaked...   \n",
            "2  this modified version of 'mom's' chili was a h...   \n",
            "3  this is a super easy, great tasting, make ahea...   \n",
            "4  my dh's amish mother raised him on this recipe...   \n",
            "\n",
            "                                         ingredients  n_ingredients  \n",
            "0  ['winter squash', 'mexican seasoning', 'mixed ...              7  \n",
            "1  ['prepared pizza crust', 'sausage patty', 'egg...              6  \n",
            "2  ['ground beef', 'yellow onions', 'diced tomato...             13  \n",
            "3  ['spreadable cheese with garlic and herbs', 'n...             11  \n",
            "4  ['tomato juice', 'apple cider vinegar', 'sugar...              8  \n"
          ]
        }
      ],
      "source": [
        "import pandas as pd\n",
        "import numpy as np\n",
        "import matplotlib.pyplot as plt\n",
        "import seaborn as sns\n",
        "import time\n",
        "\n",
        "from sklearn.metrics.pairwise import cosine_similarity\n",
        "from sklearn.feature_extraction.text import TfidfVectorizer\n",
        "from sklearn.decomposition import TruncatedSVD\n",
        "from sklearn.neighbors import NearestNeighbors\n",
        "from sklearn.decomposition import NMF\n",
        "from sklearn.model_selection import train_test_split, cross_val_score\n",
        "from sklearn.linear_model import LogisticRegression\n",
        "from sklearn.pipeline import make_pipeline\n",
        "from sklearn.metrics import make_scorer, accuracy_score\n",
        "from sklearn.impute import SimpleImputer\n",
        "from sklearn.preprocessing import StandardScaler, MinMaxScaler\n",
        "\n",
        "recipes_df = pd.read_csv('RAW_recipes.csv')\n",
        "\n",
        "print(recipes_df.head())"
      ]
    },
    {
      "cell_type": "code",
      "source": [
        "print(\"\\nSummary Statistics:\")\n",
        "print(recipes_df.describe())"
      ],
      "metadata": {
        "colab": {
          "base_uri": "https://localhost:8080/"
        },
        "id": "RKcDr-DkZk10",
        "outputId": "de034bb7-e5f1-4bd4-e2dc-adade56de919"
      },
      "id": "RKcDr-DkZk10",
      "execution_count": 16,
      "outputs": [
        {
          "output_type": "stream",
          "name": "stdout",
          "text": [
            "\n",
            "Summary Statistics:\n",
            "                  id       minutes  contributor_id        n_steps  \\\n",
            "count  231637.000000  2.316370e+05    2.316370e+05  231637.000000   \n",
            "mean   222014.708984  9.398546e+03    5.534885e+06       9.765499   \n",
            "std    141206.635626  4.461963e+06    9.979141e+07       5.995128   \n",
            "min        38.000000  0.000000e+00    2.700000e+01       0.000000   \n",
            "25%     99944.000000  2.000000e+01    5.690500e+04       6.000000   \n",
            "50%    207249.000000  4.000000e+01    1.736140e+05       9.000000   \n",
            "75%    333816.000000  6.500000e+01    3.982750e+05      12.000000   \n",
            "max    537716.000000  2.147484e+09    2.002290e+09     145.000000   \n",
            "\n",
            "       n_ingredients  \n",
            "count  231637.000000  \n",
            "mean        9.051153  \n",
            "std         3.734796  \n",
            "min         1.000000  \n",
            "25%         6.000000  \n",
            "50%         9.000000  \n",
            "75%        11.000000  \n",
            "max        43.000000  \n"
          ]
        }
      ]
    },
    {
      "cell_type": "code",
      "source": [
        "print(\"\\nMissing values in each column:\")\n",
        "print(recipes_df.isnull().sum())"
      ],
      "metadata": {
        "colab": {
          "base_uri": "https://localhost:8080/"
        },
        "id": "EUaMRujSZoUi",
        "outputId": "9e41aa61-89a7-4e7b-b6f9-3463a591eb70"
      },
      "id": "EUaMRujSZoUi",
      "execution_count": 17,
      "outputs": [
        {
          "output_type": "stream",
          "name": "stdout",
          "text": [
            "\n",
            "Missing values in each column:\n",
            "name                 1\n",
            "id                   0\n",
            "minutes              0\n",
            "contributor_id       0\n",
            "submitted            0\n",
            "tags                 0\n",
            "nutrition            0\n",
            "n_steps              0\n",
            "steps                0\n",
            "description       4979\n",
            "ingredients          0\n",
            "n_ingredients        0\n",
            "dtype: int64\n"
          ]
        }
      ]
    },
    {
      "cell_type": "code",
      "source": [
        "recipes_df = recipes_df.drop(columns=['description'])\n",
        "print(recipes_df.head())"
      ],
      "metadata": {
        "colab": {
          "base_uri": "https://localhost:8080/"
        },
        "id": "ObXSXZ_PIrOV",
        "outputId": "b28da13b-dcd6-48df-d55a-f47ffdd1d1f4"
      },
      "id": "ObXSXZ_PIrOV",
      "execution_count": 18,
      "outputs": [
        {
          "output_type": "stream",
          "name": "stdout",
          "text": [
            "                                         name      id  minutes  \\\n",
            "0  arriba   baked winter squash mexican style  137739       55   \n",
            "1            a bit different  breakfast pizza   31490       30   \n",
            "2                   all in the kitchen  chili  112140      130   \n",
            "3                          alouette  potatoes   59389       45   \n",
            "4          amish  tomato ketchup  for canning   44061      190   \n",
            "\n",
            "   contributor_id   submitted  \\\n",
            "0           47892  2005-09-16   \n",
            "1           26278  2002-06-17   \n",
            "2          196586  2005-02-25   \n",
            "3           68585  2003-04-14   \n",
            "4           41706  2002-10-25   \n",
            "\n",
            "                                                tags  \\\n",
            "0  ['60-minutes-or-less', 'time-to-make', 'course...   \n",
            "1  ['30-minutes-or-less', 'time-to-make', 'course...   \n",
            "2  ['time-to-make', 'course', 'preparation', 'mai...   \n",
            "3  ['60-minutes-or-less', 'time-to-make', 'course...   \n",
            "4  ['weeknight', 'time-to-make', 'course', 'main-...   \n",
            "\n",
            "                                    nutrition  n_steps  \\\n",
            "0       [51.5, 0.0, 13.0, 0.0, 2.0, 0.0, 4.0]       11   \n",
            "1   [173.4, 18.0, 0.0, 17.0, 22.0, 35.0, 1.0]        9   \n",
            "2  [269.8, 22.0, 32.0, 48.0, 39.0, 27.0, 5.0]        6   \n",
            "3   [368.1, 17.0, 10.0, 2.0, 14.0, 8.0, 20.0]       11   \n",
            "4   [352.9, 1.0, 337.0, 23.0, 3.0, 0.0, 28.0]        5   \n",
            "\n",
            "                                               steps  \\\n",
            "0  ['make a choice and proceed with recipe', 'dep...   \n",
            "1  ['preheat oven to 425 degrees f', 'press dough...   \n",
            "2  ['brown ground beef in large pot', 'add choppe...   \n",
            "3  ['place potatoes in a large pot of lightly sal...   \n",
            "4  ['mix all ingredients& boil for 2 1 / 2 hours ...   \n",
            "\n",
            "                                         ingredients  n_ingredients  \n",
            "0  ['winter squash', 'mexican seasoning', 'mixed ...              7  \n",
            "1  ['prepared pizza crust', 'sausage patty', 'egg...              6  \n",
            "2  ['ground beef', 'yellow onions', 'diced tomato...             13  \n",
            "3  ['spreadable cheese with garlic and herbs', 'n...             11  \n",
            "4  ['tomato juice', 'apple cider vinegar', 'sugar...              8  \n"
          ]
        }
      ]
    },
    {
      "cell_type": "code",
      "source": [
        "from collections import Counter\n",
        "\n",
        "all_ingredients = [ingredient for sublist in recipes_df['ingredients'] for ingredient in sublist]\n",
        "\n",
        "ingredient_counts = Counter(all_ingredients)\n",
        "\n",
        "top_ingredients = ingredient_counts.most_common(10)\n",
        "\n",
        "ingredients, counts = zip(*top_ingredients)\n",
        "\n",
        "plt.figure(figsize=(10, 6))\n",
        "sns.barplot(x=list(counts), y=list(ingredients), palette='viridis')\n",
        "plt.title('Top 10 Most Common Ingredients')\n",
        "plt.xlabel('Count')\n",
        "plt.ylabel('Ingredient')\n",
        "plt.show()"
      ],
      "metadata": {
        "colab": {
          "base_uri": "https://localhost:8080/",
          "height": 651
        },
        "id": "qgO9niM5Zslm",
        "outputId": "ddccd94b-2611-479d-9690-df635f806bea"
      },
      "id": "qgO9niM5Zslm",
      "execution_count": 19,
      "outputs": [
        {
          "output_type": "stream",
          "name": "stderr",
          "text": [
            "<ipython-input-19-6660192d7a90>:12: FutureWarning: \n",
            "\n",
            "Passing `palette` without assigning `hue` is deprecated and will be removed in v0.14.0. Assign the `y` variable to `hue` and set `legend=False` for the same effect.\n",
            "\n",
            "  sns.barplot(x=list(counts), y=list(ingredients), palette='viridis')\n"
          ]
        },
        {
          "output_type": "display_data",
          "data": {
            "text/plain": [
              "<Figure size 1000x600 with 1 Axes>"
            ],
            "image/png": "[encoded data removed]"
          },
          "metadata": {}
        }
      ]
    },
    {
      "cell_type": "code",
      "source": [
        "recipe_lengths = recipes_df['ingredients'].apply(len)\n",
        "\n",
        "plt.figure(figsize=(10, 6))\n",
        "sns.histplot(recipe_lengths, bins=30, kde=True, color='blue')\n",
        "plt.title('Distribution of Number of Ingredients per Recipe')\n",
        "plt.xlabel('Number of Ingredients')\n",
        "plt.ylabel('Frequency')\n",
        "plt.show()"
      ],
      "metadata": {
        "colab": {
          "base_uri": "https://localhost:8080/",
          "height": 564
        },
        "id": "tRkNIG7NbPqK",
        "outputId": "0ca15437-8b5b-48c8-8e98-ccec70f66a63"
      },
      "id": "tRkNIG7NbPqK",
      "execution_count": 20,
      "outputs": [
        {
          "output_type": "display_data",
          "data": {
            "text/plain": [
              "<Figure size 1000x600 with 1 Axes>"
            ],
            "image/png": "[encoded data removed]"
          },
          "metadata": {}
        }
      ]
    },
    {
      "cell_type": "code",
      "source": [
        "scaler = MinMaxScaler()\n",
        "recipes_df = recipes_df.drop(columns=['id', 'contributor_id', 'tags', 'nutrition', 'steps'])\n",
        "numerical_columns = ['minutes', 'n_steps', 'n_ingredients']\n",
        "recipes_df[numerical_columns] = scaler.fit_transform(recipes_df[numerical_columns])"
      ],
      "metadata": {
        "id": "XOCAWGTgKyxa"
      },
      "id": "XOCAWGTgKyxa",
      "execution_count": 21,
      "outputs": []
    },
    {
      "cell_type": "markdown",
      "id": "cac21d72-e696-4d5d-b4c6-63ca053b63d2",
      "metadata": {
        "id": "cac21d72-e696-4d5d-b4c6-63ca053b63d2"
      },
      "source": [
        "FEATURE ENGINEERING AND DIMENSIONALITY REDUCTION PROCESS"
      ]
    },
    {
      "cell_type": "code",
      "execution_count": null,
      "id": "0a6fd7ec-36f5-4ce4-bd48-803810c40447",
      "metadata": {
        "id": "0a6fd7ec-36f5-4ce4-bd48-803810c40447",
        "outputId": "48b98511-6466-406e-ee2c-c0371197d3e9",
        "colab": {
          "base_uri": "https://localhost:8080/"
        }
      },
      "outputs": [
        {
          "output_type": "stream",
          "name": "stdout",
          "text": [
            "TF-IDF Matrix Shape: (231637, 4227)\n",
            "   Component_1  Component_2  Component_3  Component_4  Component_5  \\\n",
            "0     0.128629    -0.021811    -0.023983     0.000007    -0.051032   \n",
            "1     0.155753    -0.000028     0.144880    -0.003711    -0.062139   \n",
            "2     0.275897    -0.134806     0.100444    -0.200323     0.114661   \n",
            "3     0.278315    -0.211814    -0.005922    -0.051548    -0.097288   \n",
            "4     0.318744    -0.043162    -0.206327     0.034800     0.074363   \n",
            "\n",
            "   Component_6  Component_7  Component_8  Component_9  Component_10  ...  \\\n",
            "0     0.045598    -0.052131     0.015260    -0.008631     -0.011705  ...   \n",
            "1    -0.021567    -0.039412     0.059596    -0.030520      0.065792  ...   \n",
            "2    -0.255612     0.153038    -0.048803     0.006755      0.038859  ...   \n",
            "3     0.028345    -0.172969     0.001904     0.069885      0.164194  ...   \n",
            "4    -0.035362    -0.115163     0.144452    -0.080441      0.042743  ...   \n",
            "\n",
            "   Component_91  Component_92  Component_93  Component_94  Component_95  \\\n",
            "0      0.069252     -0.000316     -0.012553      0.011035     -0.011785   \n",
            "1     -0.035659     -0.045091      0.021114     -0.013311     -0.021023   \n",
            "2     -0.069856     -0.038888     -0.056762      0.021354      0.093967   \n",
            "3     -0.036257     -0.005637      0.003049     -0.046110      0.035332   \n",
            "4     -0.047174      0.026525      0.040198     -0.013556      0.005871   \n",
            "\n",
            "   Component_96  Component_97  Component_98  Component_99  Component_100  \n",
            "0      0.005491     -0.007086     -0.013737      0.007525       0.014533  \n",
            "1     -0.007927     -0.014397     -0.025823     -0.038729      -0.045200  \n",
            "2      0.025855     -0.052778     -0.056306      0.069910      -0.016245  \n",
            "3      0.038346     -0.011917     -0.027075      0.029396      -0.030369  \n",
            "4     -0.028557     -0.052232     -0.022856      0.011599       0.008497  \n",
            "\n",
            "[5 rows x 100 columns]\n"
          ]
        }
      ],
      "source": [
        "recipes_df['ingredients'] = recipes_df['ingredients'].apply(lambda x: x.strip(\"[]\").replace(\"'\", \"\").split(\", \"))\n",
        "recipes_df['ingredients_text'] = recipes_df['ingredients'].apply(lambda x: \" \".join(x))\n",
        "\n",
        "tfidf_vectorizer = TfidfVectorizer()\n",
        "tfidf_matrix = tfidf_vectorizer.fit_transform(recipes_df['ingredients_text'])\n",
        "\n",
        "print(\"TF-IDF Matrix Shape:\", tfidf_matrix.shape)\n",
        "\n",
        "svd = TruncatedSVD(n_components=100)\n",
        "\n",
        "svd_matrix = svd.fit_transform(tfidf_matrix)\n",
        "\n",
        "svd_df = pd.DataFrame(svd_matrix, columns=[f\"Component_{i+1}\" for i in range(svd_matrix.shape[1])])\n",
        "\n",
        "print(svd_df.head())"
      ]
    },
    {
      "cell_type": "code",
      "source": [
        "def precision_at_k(input_ingredients, recommended_recipe_indices, recipes_df, k=5, threshold=0.5):\n",
        "    relevant_count = 0\n",
        "\n",
        "    for idx in recommended_recipe_indices[:k]:\n",
        "        recipe_ingredients = recipes_df.iloc[idx]['ingredients']\n",
        "\n",
        "        common_ingredients = set(input_ingredients).intersection(set(recipe_ingredients))\n",
        "\n",
        "        match_fraction = len(common_ingredients) / len(recipe_ingredients)\n",
        "\n",
        "        if match_fraction >= threshold:\n",
        "            relevant_count += 1\n",
        "\n",
        "    precision = relevant_count / k\n",
        "    return precision\n",
        "\n",
        "def measure_diversity(recommended_recipe_indices, recipes_df, top_n=5):\n",
        "    all_ingredients = []\n",
        "    for idx in recommended_recipe_indices[:top_n]:\n",
        "        recipe_ingredients = recipes_df.iloc[idx]['ingredients']\n",
        "        all_ingredients.extend(recipe_ingredients)\n",
        "\n",
        "    unique_ingredients = len(set(all_ingredients))\n",
        "    return unique_ingredients / len(all_ingredients)  # diversity ratio\n",
        "\n",
        "def cosine_recommend_recipes(input_ingredients, tfidf_vectorizer, svd_matrix, top_n=5):\n",
        "    input_text = \" \".join(input_ingredients)\n",
        "    input_vector = tfidf_vectorizer.transform([input_text])\n",
        "    input_vector_svd = svd.transform(input_vector)\n",
        "    cosine_similarities = cosine_similarity(input_vector_svd, svd_matrix).flatten()\n",
        "\n",
        "    similar_indices = cosine_similarities.argsort()[-top_n:][::-1]\n",
        "\n",
        "    print(\"Input Ingredients:\", input_ingredients)\n",
        "    print(\"\\nTop 5 Recommended Recipes:\")\n",
        "    for i, idx in enumerate(similar_indices):\n",
        "        recipe_name = recipes_df.iloc[idx]['name']\n",
        "        recipe_ingredients = recipes_df.iloc[idx]['ingredients']\n",
        "        similarity_score = cosine_similarities[idx]\n",
        "        print(f\"{i+1}. {recipe_name} (Similarity Score: {similarity_score:.4f})\")\n",
        "        print(f\"   Ingredients: {recipe_ingredients}\")\n",
        "        print()\n",
        "\n",
        "    return similar_indices, cosine_similarities[similar_indices]\n",
        "\n",
        "def knn_recommend_recipes(input_ingredients, tfidf_vectorizer, tfidf_matrix, n_neighbors=5):\n",
        "    input_text = \" \".join(input_ingredients)\n",
        "    input_vector = tfidf_vectorizer.transform([input_text])\n",
        "\n",
        "    knn = NearestNeighbors(n_neighbors=n_neighbors, metric='cosine')\n",
        "    knn.fit(tfidf_matrix)\n",
        "\n",
        "    distances, indices = knn.kneighbors(input_vector)\n",
        "\n",
        "    print(\"Input Ingredients:\", input_ingredients)\n",
        "    print(\"\\nTop 5 Recommended Recipes (KNN):\")\n",
        "    for i, (idx, distance) in enumerate(zip(indices.flatten(), distances.flatten())):\n",
        "        recipe_name = recipes_df.iloc[idx]['name']\n",
        "        recipe_ingredients = recipes_df.iloc[idx]['ingredients']\n",
        "        print(f\"{i+1}. {recipe_name} (Cosine Similarity Score: {1 - distance:.4f})\")\n",
        "        print(f\"   Ingredients: {recipe_ingredients}\")\n",
        "        print()\n",
        "\n",
        "    return indices.flatten(), distances.flatten()\n",
        "\n",
        "def nmf_recommend_recipes(input_ingredients, tfidf_vectorizer, tfidf_matrix, n_components=5, top_n=5):\n",
        "    input_text = \" \".join(input_ingredients)\n",
        "    input_vector = tfidf_vectorizer.transform([input_text])\n",
        "\n",
        "    nmf = NMF(n_components=n_components, random_state=42)\n",
        "    nmf_matrix = nmf.fit_transform(tfidf_matrix)\n",
        "\n",
        "    input_vector_nmf = nmf.transform(input_vector)\n",
        "    cosine_similarities = cosine_similarity(input_vector_nmf, nmf_matrix).flatten()\n",
        "\n",
        "    similar_indices = cosine_similarities.argsort()[-top_n:][::-1]\n",
        "\n",
        "    print(\"Input Ingredients:\", input_ingredients)\n",
        "    print(\"\\nTop 5 Recommended Recipes (NMF):\")\n",
        "    for i, idx in enumerate(similar_indices):\n",
        "        recipe_name = recipes_df.iloc[idx]['name']\n",
        "        recipe_ingredients = recipes_df.iloc[idx]['ingredients']\n",
        "        similarity_score = cosine_similarities[idx]\n",
        "        print(f\"{i+1}. {recipe_name} (Similarity Score: {similarity_score:.4f})\")\n",
        "        print(f\"   Ingredients: {recipe_ingredients}\")\n",
        "        print()\n",
        "\n",
        "    return similar_indices, cosine_similarities[similar_indices]\n",
        "\n",
        "input_ingredients = ['eggs', 'bread', 'butter', 'salt', 'bacon', 'pepper']\n"
      ],
      "metadata": {
        "id": "_v9meXL2lU1s"
      },
      "id": "_v9meXL2lU1s",
      "execution_count": null,
      "outputs": []
    },
    {
      "cell_type": "code",
      "source": [
        "start_time = time.time()\n",
        "recommended_indices_svd, similarity_scores_svd = cosine_recommend_recipes(input_ingredients, tfidf_vectorizer, svd_matrix, top_n=5)\n",
        "svd_time = time.time() - start_time\n",
        "precision_svd = precision_at_k(input_ingredients, recommended_indices_svd, recipes_df, k=5, threshold=0.5)\n",
        "diversity_svd = measure_diversity(recommended_indices_svd, recipes_df, top_n=5)\n",
        "\n",
        "print(\"Results for Cosine-based Recommendation:\")\n",
        "print(f\"Precision at K (P@5): {precision_svd:.4f}\")\n",
        "print(f\"Time taken: {svd_time:.4f} seconds\")\n",
        "print(f\"Diversity: {diversity_svd:.4f}\\n\")"
      ],
      "metadata": {
        "colab": {
          "base_uri": "https://localhost:8080/"
        },
        "id": "1xQ6ZwA4msF5",
        "outputId": "79201e0a-4bf7-484c-a394-d7a981f5da1c"
      },
      "id": "1xQ6ZwA4msF5",
      "execution_count": null,
      "outputs": [
        {
          "output_type": "stream",
          "name": "stdout",
          "text": [
            "Input Ingredients: ['eggs', 'bread', 'butter', 'salt', 'bacon', 'pepper']\n",
            "\n",
            "Top 5 Recommended Recipes:\n",
            "1. eggs lookin  at you (Similarity Score: 1.0000)\n",
            "   Ingredients: ['butter', 'bread', 'bacon', 'eggs', 'salt & pepper']\n",
            "\n",
            "2. the greasemeister (Similarity Score: 0.9619)\n",
            "   Ingredients: ['eggs', 'bread', 'meat', 'cheese', 'bacon', 'butter', 'salt', 'pepper', 'grey poupon']\n",
            "\n",
            "3. bacon and egg sandwich (Similarity Score: 0.9332)\n",
            "   Ingredients: ['bacon', 'eggs', 'bread', 'cheese', 'butter', 'strawberries', 'ketchup', 'salt', 'pepper']\n",
            "\n",
            "4. homemade egg macmuffins (Similarity Score: 0.8722)\n",
            "   Ingredients: ['white bread', 'eggs', 'butter', 'crisp bacon']\n",
            "\n",
            "5. eggs in muffin cups (Similarity Score: 0.8710)\n",
            "   Ingredients: ['eggs', 'white bread', 'bacon', 'butter']\n",
            "\n",
            "Results for Cosine-based Recommendation:\n",
            "Precision at K (P@5): 1.0000\n",
            "Time taken: 0.2676 seconds\n",
            "Diversity: 0.4516\n",
            "\n"
          ]
        }
      ]
    },
    {
      "cell_type": "code",
      "source": [
        "start_time = time.time()\n",
        "recommended_indices_knn, distances_knn = knn_recommend_recipes(input_ingredients, tfidf_vectorizer, tfidf_matrix, n_neighbors=5)\n",
        "knn_time = time.time() - start_time\n",
        "precision_knn = precision_at_k(input_ingredients, recommended_indices_knn, recipes_df, k=5, threshold=0.5)\n",
        "diversity_knn = measure_diversity(recommended_indices_knn, recipes_df, top_n=5)\n",
        "\n",
        "print(\"Results for KNN-based Recommendation:\")\n",
        "print(f\"Precision at K (P@5): {precision_knn:.4f}\")\n",
        "print(f\"Time taken: {knn_time:.4f} seconds\")\n",
        "print(f\"Diversity: {diversity_knn:.4f}\\n\")"
      ],
      "metadata": {
        "colab": {
          "base_uri": "https://localhost:8080/"
        },
        "id": "NcGMVVf2m8EN",
        "outputId": "366deb7a-0299-4b2c-88c2-bcf5efd745a1"
      },
      "id": "NcGMVVf2m8EN",
      "execution_count": null,
      "outputs": [
        {
          "output_type": "stream",
          "name": "stdout",
          "text": [
            "Input Ingredients: ['eggs', 'bread', 'butter', 'salt', 'bacon', 'pepper']\n",
            "\n",
            "Top 5 Recommended Recipes (KNN):\n",
            "1. eggs lookin  at you (Cosine Similarity Score: 1.0000)\n",
            "   Ingredients: ['butter', 'bread', 'bacon', 'eggs', 'salt & pepper']\n",
            "\n",
            "2. eggs in muffin cups (Cosine Similarity Score: 0.8560)\n",
            "   Ingredients: ['eggs', 'white bread', 'bacon', 'butter']\n",
            "\n",
            "3. eggs baked in bacon ring (Cosine Similarity Score: 0.8299)\n",
            "   Ingredients: ['bacon', 'eggs', 'salt & pepper', 'butter']\n",
            "\n",
            "4. gypsy bacon (Cosine Similarity Score: 0.7994)\n",
            "   Ingredients: ['bacon', 'bread']\n",
            "\n",
            "5. bacon  eggs  and toast  my version (Cosine Similarity Score: 0.7921)\n",
            "   Ingredients: ['eggs', 'bacon', 'bread', 'margarine', 'salt', 'pepper']\n",
            "\n",
            "Results for KNN-based Recommendation:\n",
            "Precision at K (P@5): 1.0000\n",
            "Time taken: 0.2729 seconds\n",
            "Diversity: 0.4286\n",
            "\n"
          ]
        }
      ]
    },
    {
      "cell_type": "code",
      "source": [
        "start_time = time.time()\n",
        "recommended_indices_nmf, distances_nmf = nmf_recommend_recipes(input_ingredients, tfidf_vectorizer, tfidf_matrix, n_components=5, top_n=5)\n",
        "nmf_time = time.time() - start_time\n",
        "precision_nmf = precision_at_k(input_ingredients, recommended_indices_nmf, recipes_df, k=5, threshold=0.5)\n",
        "diversity_nmf = measure_diversity(recommended_indices_nmf, recipes_df, top_n=5)\n",
        "\n",
        "print(\"Results for NMF-based Recommendation:\")\n",
        "print(f\"Precision at K (P@5): {precision_nmf:.4f}\")\n",
        "print(f\"Time taken: {nmf_time:.4f} seconds\")\n",
        "print(f\"Diversity: {diversity_nmf:.4f}\\n\")"
      ],
      "metadata": {
        "colab": {
          "base_uri": "https://localhost:8080/"
        },
        "id": "jIC3VHk2nIfl",
        "outputId": "dc0615a0-b84e-4002-e4f9-d3f32eaafa3d"
      },
      "id": "jIC3VHk2nIfl",
      "execution_count": null,
      "outputs": [
        {
          "output_type": "stream",
          "name": "stdout",
          "text": [
            "Input Ingredients: ['eggs', 'bread', 'butter', 'salt', 'bacon', 'pepper']\n",
            "\n",
            "Top 5 Recommended Recipes (NMF):\n",
            "1. eggs lookin  at you (Similarity Score: 1.0000)\n",
            "   Ingredients: ['butter', 'bread', 'bacon', 'eggs', 'salt & pepper']\n",
            "\n",
            "2. eggs baked with tomatoes (Similarity Score: 1.0000)\n",
            "   Ingredients: ['whole tomatoes', 'all-purpose flour', 'green pepper', 'dried chervil', 'eggs', 'salt', 'parmesan cheese', 'toast']\n",
            "\n",
            "3. vegetable cheese souffle (Similarity Score: 0.9999)\n",
            "   Ingredients: ['butter', 'flour', 'salt', 'cayenne pepper', 'milk', 'sharp cheddar cheese', 'egg yolks', 'sliced mushrooms', 'red bell peppers', 'broccoli', 'olive oil', 'egg whites', '\"confectioners sugar\"']\n",
            "\n",
            "4. pepperoni pizza bread for the bread machine (Similarity Score: 0.9999)\n",
            "   Ingredients: ['water', 'bread flour', 'mozzarella cheese', 'sugar', 'garlic salt', 'dried oregano', 'yeast', 'pepperoni']\n",
            "\n",
            "5. fabulous oregano bread  or pizza dough (Similarity Score: 0.9997)\n",
            "   Ingredients: ['water', 'olive oil', 'salt', 'parmesan cheese', 'oregano', 'bread flour', 'nonfat dry milk powder', 'yeast']\n",
            "\n",
            "Results for NMF-based Recommendation:\n",
            "Precision at K (P@5): 0.2000\n",
            "Time taken: 10.1837 seconds\n",
            "Diversity: 0.7857\n",
            "\n"
          ]
        }
      ]
    },
    {
      "cell_type": "code",
      "source": [
        "comparison_table = pd.DataFrame({\n",
        "    \"Model\": [\"Cosine + SVD\", \"KNN\", \"NMF\"],\n",
        "    \"Precision at K (P@5)\": [precision_svd, precision_knn, precision_nmf],\n",
        "    \"Time Taken (sec)\": [svd_time, knn_time, nmf_time],\n",
        "    \"Diversity\": [diversity_svd, diversity_knn, diversity_nmf]\n",
        "})\n",
        "\n",
        "print(\"Comparison Table:\")\n",
        "print(comparison_table)"
      ],
      "metadata": {
        "id": "hN8AokcP4LJC",
        "outputId": "c21939ea-2455-4ed7-e347-edb8453ca9e8",
        "colab": {
          "base_uri": "https://localhost:8080/"
        }
      },
      "id": "hN8AokcP4LJC",
      "execution_count": null,
      "outputs": [
        {
          "output_type": "stream",
          "name": "stdout",
          "text": [
            "Comparison Table:\n",
            "          Model  Precision at K (P@5)  Time Taken (sec)  Diversity\n",
            "0  Cosine + SVD                   1.0          0.267627         14\n",
            "1           KNN                   1.0          0.272932          9\n",
            "2           NMF                   0.2         10.183749         33\n"
          ]
        }
      ]
    }
  ],
  "metadata": {
    "kernelspec": {
      "display_name": "Python 3 (ipykernel)",
      "language": "python",
      "name": "python3"
    },
    "language_info": {
      "codemirror_mode": {
        "name": "ipython",
        "version": 3
      },
      "file_extension": ".py",
      "mimetype": "text/x-python",
      "name": "python",
      "nbconvert_exporter": "python",
      "pygments_lexer": "ipython3",
      "version": "3.12.7"
    },
    "colab": {
      "provenance": []
    }
  },
  "nbformat": 4,
  "nbformat_minor": 5
}